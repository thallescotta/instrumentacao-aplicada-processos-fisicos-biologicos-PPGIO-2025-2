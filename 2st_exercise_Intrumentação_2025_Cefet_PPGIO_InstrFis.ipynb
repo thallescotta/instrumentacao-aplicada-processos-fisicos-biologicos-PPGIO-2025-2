{
  "nbformat": 4,
  "nbformat_minor": 0,
  "metadata": {
    "colab": {
      "provenance": [],
      "authorship_tag": "ABX9TyOBkWtzKY9zIa/nm8bm35JT",
      "include_colab_link": true
    },
    "kernelspec": {
      "name": "python3",
      "display_name": "Python 3"
    },
    "language_info": {
      "name": "python"
    }
  },
  "cells": [
    {
      "cell_type": "markdown",
      "metadata": {
        "id": "view-in-github",
        "colab_type": "text"
      },
      "source": [
        "<a href=\"https://colab.research.google.com/github/thallescotta/instrumentacao-aplicada-processos-fisicos-biologicos-PPGIO-2025-2/blob/main/2st_exercise_Intrumenta%C3%A7%C3%A3o_2025_Cefet_PPGIO_InstrFis.ipynb\" target=\"_parent\"><img src=\"https://colab.research.google.com/assets/colab-badge.svg\" alt=\"Open In Colab\"/></a>"
      ]
    },
    {
      "cell_type": "markdown",
      "source": [
        "# Roteiro de Instalação do Software SRIM & TRIM\n",
        "\n",
        "Este roteiro detalha os passos para a instalação do software SRIM & TRIM, conforme demonstrado no vídeo \"ION IMPLANTATION SIMULATION || SRIM & TRIM Software Step by Step Tutorial 💻🔑🔓\" do Dr. Habib Ahmad. O software SRIM (Stopping and Range of Ions in Matter) e TRIM (Transport of Ions in Matter) é utilizado para simular a implantação de íons em vários materiais.\n",
        "\n",
        "[![Assista no YouTube](https://img.youtube.com/vi/DfQgByqJbes/0.jpg)](https://youtu.be/DfQgByqJbes)\n",
        "\n",
        "## 1. Baixar o Software\n",
        "\n",
        "1.  **Acessar o link de download:** http://www.srim.org/SRIM/SRIMLEGL.htm\n",
        "2.  **Selecionar a versão:** Clique em \"stream 2013 the standard form\" para baixar o arquivo de instalação.\n",
        "3.  **Manter o arquivo:** Se o navegador alertar, clique em \"keep\" para manter o download.\n",
        "4.  **Organizar o arquivo:** Recorte o arquivo baixado e cole-o em uma nova pasta na área de trabalho, por exemplo, nomeada \"TR\".\n",
        "\n",
        "## 2. Extrair os Arquivos de Instalação\n",
        "\n",
        "1.  **Renomear o arquivo:** Renomeie o arquivo baixado para `.exe`.\n",
        "2.  **Executar a extração:** Dê um duplo clique no arquivo renomeado, clique em \"extract\" e depois em \"ok\". Isso extrairá os arquivos necessários para a instalação.\n",
        "\n",
        "## 3. Realizar o Setup Inicial\n",
        "\n",
        "O software pode precisar que certos arquivos sejam copiados e registrados no Windows para funcionar corretamente, e há diferentes métodos a serem tentados.\n",
        "\n",
        "1.  **Primeira tentativa (Auto-setup):**\n",
        "    *   Vá para a pasta de configuração do SRIM e execute \"srim setup\" como administrador. Neste caso, o vídeo mostra que **este método não funcionou**.\n",
        "2.  **Segunda tentativa (Instalador):**\n",
        "    *   Clique com o botão direito no arquivo de instalação (implícitamente o setup.exe após a extração) e selecione \"run as administrator\" (executar como administrador).\n",
        "    *   Clique em \"yes\" e pressione \"enter\" duas vezes.\n",
        "    *   O programa instalará vários arquivos e indicará que a instalação foi concluída com sucesso.\n",
        "    *   Continue clicando em \"run\" até ver uma janela, onde você deve clicar em \"install\" e, em seguida, fechar as janelas.\n",
        "\n",
        "## 4. Copiar Arquivos Manualmente (se necessário)\n",
        "\n",
        "Se os arquivos não foram instalados ou copiados com sucesso nos passos anteriores, você pode copiá-los manualmente. Existem **cinco arquivos essenciais** para o funcionamento do software, localizados na pasta de setup.\n",
        "\n",
        "1.  **Localizar os arquivos:** Na pasta onde você extraiu o setup, localize os seguintes arquivos:\n",
        "    *   `COMCTL32.OCX`\n",
        "    *   `COMDLG32.OCX`\n",
        "    *   `MSFLXGRD.OCX`\n",
        "    *   `RICHTX32.OCX`\n",
        "    *   `TABCTL32.OCX`\n",
        "2.  **Copiar os arquivos:** Copie esses cinco arquivos.\n",
        "3.  **Colar na pasta do Windows:** Cole-os na pasta `C:\\Windows\\SysWOW64\\`.\n",
        "4.  **Substituir (se solicitado):** Se os arquivos já existirem, substitua-os na pasta de destino.\n",
        "\n",
        "## 5. Registrar os Arquivos OCX no Windows\n",
        "\n",
        "Mesmo após copiar os arquivos, eles precisam ser registrados no Windows para que o software funcione corretamente.\n",
        "\n",
        "1.  **Abrir o Prompt de Comando como Administrador:**\n",
        "    *   Na barra de pesquisa do Windows, digite `CMD`.\n",
        "    *   Clique com o botão direito em \"Prompt de Comando\" e selecione \"Executar como administrador\".\n",
        "    *   Clique em \"Sim\" se solicitado.\n",
        "2.  **Executar os comandos de registro:** Copie e cole cada uma das seguintes linhas de comando no Prompt de Comando (uma por vez) e pressione `Enter` após cada uma. O vídeo mostra a primeira sendo registrada com sucesso.\n",
        "\n",
        "    ```cmd\n",
        "    C:\\Windows\\SysWOW64\\regsvr32.exe COMCTL32.OCX\n",
        "    C:\\Windows\\SysWOW64\\regsvr32.exe COMDLG32.OCX\n",
        "    C:\\Windows\\SysWOW64\\regsvr32.exe MSFLXGRD.OCX\n",
        "    C:\\Windows\\SysWOW64\\regsvr32.exe RICHTX32.OCX\n",
        "    C:\\Windows\\SysWOW64\\regsvr32.exe TABCTL32.OCX\n",
        "    ```\n",
        "\n",
        "    Após a execução de cada comando, você deverá receber uma mensagem de sucesso.\n",
        "\n",
        "## 6. Executar o Software TRIM\n",
        "\n",
        "Após seguir todos os passos anteriores, o software deve estar pronto para ser executado.\n",
        "\n",
        "1.  **Abrir o TRIM:** Dê um duplo clique no ícone do software (normalmente na pasta onde você o extraiu ou na área de trabalho, se você criou um atalho).\n",
        "\n",
        "O software estará agora instalado e pronto para simular a implantação de íons em vários materiais."
      ],
      "metadata": {
        "id": "npN49w7p2XVj"
      }
    },
    {
      "cell_type": "code",
      "source": [],
      "metadata": {
        "id": "CRaeVfaX4UFK"
      },
      "execution_count": null,
      "outputs": []
    }
  ]
}